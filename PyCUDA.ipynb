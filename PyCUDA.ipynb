{
  "cells": [
    {
      "cell_type": "code",
      "execution_count": null,
      "metadata": {
        "colab": {
          "base_uri": "https://localhost:8080/"
        },
        "collapsed": true,
        "id": "qDfaHW7GQdzA",
        "outputId": "42be2350-a407-4683-deb6-4b8444ecb595"
      },
      "outputs": [
        {
          "output_type": "stream",
          "name": "stdout",
          "text": [
            "Collecting pycuda\n",
            "  Downloading pycuda-2024.1.tar.gz (1.7 MB)\n",
            "\u001b[2K     \u001b[90m━━━━━━━━━━━━━━━━━━━━━━━━━━━━━━━━━━━━━━━━\u001b[0m \u001b[32m1.7/1.7 MB\u001b[0m \u001b[31m11.0 MB/s\u001b[0m eta \u001b[36m0:00:00\u001b[0m\n",
            "\u001b[?25h  Installing build dependencies ... \u001b[?25l\u001b[?25hdone\n",
            "  Getting requirements to build wheel ... \u001b[?25l\u001b[?25hdone\n",
            "  Preparing metadata (pyproject.toml) ... \u001b[?25l\u001b[?25hdone\n",
            "Collecting pytools>=2011.2 (from pycuda)\n",
            "  Downloading pytools-2024.1.5-py2.py3-none-any.whl (88 kB)\n",
            "\u001b[2K     \u001b[90m━━━━━━━━━━━━━━━━━━━━━━━━━━━━━━━━━━━━━━━━\u001b[0m \u001b[32m88.1/88.1 kB\u001b[0m \u001b[31m13.8 MB/s\u001b[0m eta \u001b[36m0:00:00\u001b[0m\n",
            "\u001b[?25hCollecting appdirs>=1.4.0 (from pycuda)\n",
            "  Downloading appdirs-1.4.4-py2.py3-none-any.whl (9.6 kB)\n",
            "Collecting mako (from pycuda)\n",
            "  Downloading Mako-1.3.5-py3-none-any.whl (78 kB)\n",
            "\u001b[2K     \u001b[90m━━━━━━━━━━━━━━━━━━━━━━━━━━━━━━━━━━━━━━━━\u001b[0m \u001b[32m78.6/78.6 kB\u001b[0m \u001b[31m12.0 MB/s\u001b[0m eta \u001b[36m0:00:00\u001b[0m\n",
            "\u001b[?25hRequirement already satisfied: platformdirs>=2.2.0 in /usr/local/lib/python3.10/dist-packages (from pytools>=2011.2->pycuda) (4.2.2)\n",
            "Requirement already satisfied: typing-extensions>=4.0 in /usr/local/lib/python3.10/dist-packages (from pytools>=2011.2->pycuda) (4.12.2)\n",
            "Requirement already satisfied: MarkupSafe>=0.9.2 in /usr/local/lib/python3.10/dist-packages (from mako->pycuda) (2.1.5)\n",
            "Building wheels for collected packages: pycuda\n",
            "  Building wheel for pycuda (pyproject.toml) ... \u001b[?25l\u001b[?25hdone\n",
            "  Created wheel for pycuda: filename=pycuda-2024.1-cp310-cp310-linux_x86_64.whl size=661204 sha256=4844349b53e32a8865fe8373b4bdcddd3b3065044731074eab27ddecff03b0d4\n",
            "  Stored in directory: /root/.cache/pip/wheels/12/34/d2/9a349255a4eca3a486d82c79d21e138ce2ccd90f414d9d72b8\n",
            "Successfully built pycuda\n",
            "Installing collected packages: appdirs, pytools, mako, pycuda\n",
            "Successfully installed appdirs-1.4.4 mako-1.3.5 pycuda-2024.1 pytools-2024.1.5\n"
          ]
        }
      ],
      "source": [
        "!pip install pycuda  # Instala la librería PyCUDA"
      ]
    },
    {
      "cell_type": "code",
      "execution_count": null,
      "metadata": {
        "colab": {
          "base_uri": "https://localhost:8080/"
        },
        "collapsed": true,
        "id": "e2V5NDouRGXB",
        "outputId": "2b51fbc8-1597-40c7-9c9e-fabf6477981b"
      },
      "outputs": [
        {
          "output_type": "stream",
          "name": "stdout",
          "text": [
            "Collecting Bio\n",
            "  Downloading bio-1.7.1-py3-none-any.whl (280 kB)\n",
            "\u001b[2K     \u001b[90m━━━━━━━━━━━━━━━━━━━━━━━━━━━━━━━━━━━━━━━━\u001b[0m \u001b[32m281.0/281.0 kB\u001b[0m \u001b[31m6.2 MB/s\u001b[0m eta \u001b[36m0:00:00\u001b[0m\n",
            "\u001b[?25hCollecting biopython>=1.80 (from Bio)\n",
            "  Downloading biopython-1.83-cp310-cp310-manylinux_2_17_x86_64.manylinux2014_x86_64.whl (3.1 MB)\n",
            "\u001b[2K     \u001b[90m━━━━━━━━━━━━━━━━━━━━━━━━━━━━━━━━━━━━━━━━\u001b[0m \u001b[32m3.1/3.1 MB\u001b[0m \u001b[31m19.1 MB/s\u001b[0m eta \u001b[36m0:00:00\u001b[0m\n",
            "\u001b[?25hCollecting gprofiler-official (from Bio)\n",
            "  Downloading gprofiler_official-1.0.0-py3-none-any.whl (9.3 kB)\n",
            "Collecting mygene (from Bio)\n",
            "  Downloading mygene-3.2.2-py2.py3-none-any.whl (5.4 kB)\n",
            "Requirement already satisfied: pandas in /usr/local/lib/python3.10/dist-packages (from Bio) (2.0.3)\n",
            "Requirement already satisfied: pooch in /usr/local/lib/python3.10/dist-packages (from Bio) (1.8.2)\n",
            "Requirement already satisfied: requests in /usr/local/lib/python3.10/dist-packages (from Bio) (2.31.0)\n",
            "Requirement already satisfied: tqdm in /usr/local/lib/python3.10/dist-packages (from Bio) (4.66.4)\n",
            "Requirement already satisfied: numpy in /usr/local/lib/python3.10/dist-packages (from biopython>=1.80->Bio) (1.25.2)\n",
            "Collecting biothings-client>=0.2.6 (from mygene->Bio)\n",
            "  Downloading biothings_client-0.3.1-py2.py3-none-any.whl (29 kB)\n",
            "Requirement already satisfied: python-dateutil>=2.8.2 in /usr/local/lib/python3.10/dist-packages (from pandas->Bio) (2.8.2)\n",
            "Requirement already satisfied: pytz>=2020.1 in /usr/local/lib/python3.10/dist-packages (from pandas->Bio) (2023.4)\n",
            "Requirement already satisfied: tzdata>=2022.1 in /usr/local/lib/python3.10/dist-packages (from pandas->Bio) (2024.1)\n",
            "Requirement already satisfied: platformdirs>=2.5.0 in /usr/local/lib/python3.10/dist-packages (from pooch->Bio) (4.2.2)\n",
            "Requirement already satisfied: packaging>=20.0 in /usr/local/lib/python3.10/dist-packages (from pooch->Bio) (24.1)\n",
            "Requirement already satisfied: charset-normalizer<4,>=2 in /usr/local/lib/python3.10/dist-packages (from requests->Bio) (3.3.2)\n",
            "Requirement already satisfied: idna<4,>=2.5 in /usr/local/lib/python3.10/dist-packages (from requests->Bio) (3.7)\n",
            "Requirement already satisfied: urllib3<3,>=1.21.1 in /usr/local/lib/python3.10/dist-packages (from requests->Bio) (2.0.7)\n",
            "Requirement already satisfied: certifi>=2017.4.17 in /usr/local/lib/python3.10/dist-packages (from requests->Bio) (2024.6.2)\n",
            "Requirement already satisfied: six>=1.5 in /usr/local/lib/python3.10/dist-packages (from python-dateutil>=2.8.2->pandas->Bio) (1.16.0)\n",
            "Installing collected packages: biopython, gprofiler-official, biothings-client, mygene, Bio\n",
            "Successfully installed Bio-1.7.1 biopython-1.83 biothings-client-0.3.1 gprofiler-official-1.0.0 mygene-3.2.2\n"
          ]
        }
      ],
      "source": [
        "!pip install Bio  # Instala la librería Biopython"
      ]
    },
    {
      "cell_type": "code",
      "execution_count": null,
      "metadata": {
        "colab": {
          "base_uri": "https://localhost:8080/"
        },
        "id": "JebIXGtDR8CB",
        "outputId": "8574db53-467a-4bbc-fdfa-b96d8183f0b2"
      },
      "outputs": [
        {
          "output_type": "stream",
          "name": "stdout",
          "text": [
            "Mounted at /content/drive\n"
          ]
        }
      ],
      "source": [
        "from google.colab import drive\n",
        "drive.mount('/content/drive')"
      ]
    },
    {
      "cell_type": "code",
      "execution_count": null,
      "metadata": {
        "id": "LqasSSrRSDAI"
      },
      "outputs": [],
      "source": [
        "from Bio import SeqIO  # Importa el módulo SeqIO de Biopython para manipular archivos de secuencias\n",
        "import numpy as np  # Importa la librería numpy para manipulación de arrays\n",
        "\n",
        "def merge_sequences_from_fasta(file_path, max_length=None):\n",
        "    sequences = []  # Inicializa una lista para almacenar las secuencias\n",
        "    total_length = 0  # Inicializa la longitud total de las secuencias\n",
        "    for record in SeqIO.parse(file_path, \"fasta\"):  # Itera sobre cada registro en el archivo FASTA\n",
        "        seq = str(record.seq)  # Convierte la secuencia a una cadena\n",
        "        sequences.append(seq)  # Agrega la secuencia a la lista\n",
        "        total_length += len(seq)  # Suma la longitud de la secuencia a la longitud total\n",
        "        if max_length and total_length >= max_length:  # Si se alcanza la longitud máxima, se detiene\n",
        "            break\n",
        "    merged_sequence = \"\".join(sequences)  # Une todas las secuencias en una sola cadena\n",
        "    if max_length:\n",
        "        return merged_sequence[:max_length]  # Retorna la secuencia unida truncada a la longitud máxima\n",
        "    return merged_sequence  # Retorna la secuencia unida completa\n",
        "\n",
        "def sequence_to_matrix(sequence, num_columns):\n",
        "    # Asegurarse de que la secuencia tenga suficiente longitud para llenar las columnas\n",
        "    padded_sequence = sequence.ljust(num_columns, 'N')  # Completa con 'N' si es necesario\n",
        "    matrix = np.array(list(padded_sequence)).reshape(-1, num_columns)  # Convierte la secuencia a una matriz\n",
        "    return matrix  # Retorna la matriz\n"
      ]
    },
    {
      "cell_type": "code",
      "execution_count": null,
      "metadata": {
        "id": "K17_mrL2SPpI"
      },
      "outputs": [],
      "source": [
        "file_path_1 = \"/content/drive/MyDrive/SEMESTRE 2024-1/PROGRAMACION CONCURRENTE Y DISTRIBUIDA/Proyecto/Proyecto/E_coli.fna\"\n",
        "file_path_2 = \"/content/drive/MyDrive/SEMESTRE 2024-1/PROGRAMACION CONCURRENTE Y DISTRIBUIDA/Proyecto/Proyecto/Salmonella.fna\"\n",
        "\n",
        "max_length = 10000  # Define una longitud máxima de 10,000 nucleótidos\n",
        "\n",
        "merged_sequence_1 = merge_sequences_from_fasta(file_path_1, max_length)  # Une las secuencias del primer archivo\n",
        "merged_sequence_2 = merge_sequences_from_fasta(file_path_2, max_length)  # Une las secuencias del segundo archivo\n"
      ]
    },
    {
      "cell_type": "code",
      "execution_count": null,
      "metadata": {
        "id": "fJgYeX4BSVNG"
      },
      "outputs": [],
      "source": [
        "# Para inicializar automáticamente PyCUDA y la GPU\n",
        "import pycuda.autoinit\n",
        "\n",
        "# Para interactuar directamente con el controlador de la GPU\n",
        "import pycuda.driver as cuda\n",
        "\n",
        "# Para manipular arrays y operaciones en la CPU\n",
        "import numpy as np\n",
        "\n",
        "# Para compilar y cargar módulos CUDA en la GPU\n",
        "from pycuda.compiler import SourceModule\n",
        "\n",
        "# Para medir los tiempos\n",
        "import time\n",
        "\n",
        "# Para generar gráficos\n",
        "import matplotlib.pyplot as plt"
      ]
    },
    {
      "cell_type": "code",
      "execution_count": null,
      "metadata": {
        "id": "Hh5YkRRnSW91"
      },
      "outputs": [],
      "source": [
        "def create_dotplot(seq1, seq2):\n",
        "    len1, len2 = len(seq1), len(seq2)  # Obtiene las longitudes de las secuencias\n",
        "\n",
        "    dotplot_matrix = np.zeros((len1, len2), dtype=np.int32)  # Inicializa la matriz dotplot con ceros\n",
        "\n",
        "    kernel_code = \"\"\"\n",
        "    __global__ void compare_sequences(char* seq1, char* seq2, int* dotplot, int len1, int len2) {\n",
        "        int idx = blockIdx.x * blockDim.x + threadIdx.x;\n",
        "        int idy = blockIdx.y * blockDim.y + threadIdx.y;\n",
        "        if (idx < len1 && idy < len2) {\n",
        "            dotplot[idx * len2 + idy] = (seq1[idx] == seq2[idy]) ? 1 : 0;\n",
        "        }\n",
        "    }\n",
        "    \"\"\"\n",
        "\n",
        "    mod = SourceModule(kernel_code)  # Compila el código CUDA\n",
        "    compare_sequences = mod.get_function(\"compare_sequences\")  # Obtiene la función del módulo compilado\n",
        "\n",
        "    seq1_gpu = cuda.mem_alloc(seq1.nbytes)  # Reserva memoria en la GPU para seq1\n",
        "    seq2_gpu = cuda.mem_alloc(seq2.nbytes)  # Reserva memoria en la GPU para seq2\n",
        "    dotplot_gpu = cuda.mem_alloc(dotplot_matrix.nbytes)  # Reserva memoria en la GPU para dotplot_matrix\n",
        "\n",
        "    cuda.memcpy_htod(seq1_gpu, seq1)  # Copia seq1 a la memoria de la GPU\n",
        "    cuda.memcpy_htod(seq2_gpu, seq2)  # Copia seq2 a la memoria de la GPU\n",
        "\n",
        "    block_size = (16, 16, 1)  # Define el tamaño del bloque\n",
        "    grid_size = (int(np.ceil(len1 / block_size[0])), int(np.ceil(len2 / block_size[1])), 1)  # Define el tamaño de la cuadrícula\n",
        "\n",
        "    compare_sequences(seq1_gpu, seq2_gpu, dotplot_gpu, np.int32(len1), np.int32(len2), block=block_size, grid=grid_size)  # Llama a la función CUDA\n",
        "\n",
        "    cuda.memcpy_dtoh(dotplot_matrix, dotplot_gpu)  # Copia el resultado de vuelta a la CPU\n",
        "\n",
        "    return dotplot_matrix  # Retorna la matriz dotplot\n",
        "\n",
        "seq1 = np.array(list(merged_sequence_1), dtype=np.chararray)  # Convierte la primera secuencia a un array numpy\n",
        "seq2 = np.array(list(merged_sequence_2), dtype=np.chararray)  # Convierte la segunda secuencia a un array numpy\n",
        "\n",
        "start_time = time.time()  # Inicia el temporizador\n",
        "dotplot = create_dotplot(seq1, seq2)  # Crea el dotplot\n",
        "end_time = time.time()  # Detiene el temporizador\n",
        "\n",
        "print(f\"Tiempo de ejecución: {end_time - start_time} segundos\")  # Imprime el tiempo de ejecución\n"
      ]
    },
    {
      "cell_type": "code",
      "execution_count": null,
      "metadata": {
        "colab": {
          "base_uri": "https://localhost:8080/"
        },
        "id": "AXS5yyOaqi3F",
        "outputId": "d5309fa4-3a92-4dcf-b1c8-c8f832c58359"
      },
      "outputs": [
        {
          "name": "stdout",
          "output_type": "stream",
          "text": [
            "Dotplot saved as /content/drive/MyDrive/SEMESTRE 2024-1/PROGRAMACION CONCURRENTE Y DISTRIBUIDA/Proyecto/Proyecto/dotplot_PyCUDA.png\n",
            "Tiempo de ejecución CUDA:  2.094665050506592\n"
          ]
        }
      ],
      "source": [
        "# Inicia el tiempo de medición para la operación CUDA\n",
        "start_time_cuda = time.time()\n",
        "\n",
        "# Crear el dotplot\n",
        "create_dotplot(merged_sequence_1, merged_sequence_2)\n",
        "\n",
        "# Detiene el tiempo de medición para la operación CUDA\n",
        "end_time_cuda = time.time()\n",
        "\n",
        "# Calcula el tiempo total de la operación CUDA\n",
        "time_cuda = end_time_cuda - start_time_cuda\n",
        "\n",
        "print(\"Tiempo de ejecución CUDA: \", time_cuda)"
      ]
    },
    {
      "cell_type": "code",
      "execution_count": null,
      "metadata": {
        "colab": {
          "background_save": true
        },
        "id": "UE6P4zsjHz0M",
        "outputId": "959827dd-1afb-452b-8d37-72522402e243"
      },
      "outputs": [
        {
          "ename": "AttributeError",
          "evalue": "'NoneType' object has no attribute 'copy'",
          "output_type": "error",
          "traceback": [
            "\u001b[0;31m---------------------------------------------------------------------------\u001b[0m",
            "\u001b[0;31mAttributeError\u001b[0m                            Traceback (most recent call last)",
            "\u001b[0;32m<ipython-input-12-28469eb6418a>\u001b[0m in \u001b[0;36m<cell line: 37>\u001b[0;34m()\u001b[0m\n\u001b[1;32m     37\u001b[0m \u001b[0;32mif\u001b[0m \u001b[0m__name__\u001b[0m \u001b[0;34m==\u001b[0m \u001b[0;34m\"__main__\"\u001b[0m\u001b[0;34m:\u001b[0m\u001b[0;34m\u001b[0m\u001b[0;34m\u001b[0m\u001b[0m\n\u001b[1;32m     38\u001b[0m     \u001b[0msrc\u001b[0m \u001b[0;34m=\u001b[0m \u001b[0mcv2\u001b[0m\u001b[0;34m.\u001b[0m\u001b[0mimread\u001b[0m\u001b[0;34m(\u001b[0m\u001b[0;34m\"dotplot_pycuda.png\"\u001b[0m\u001b[0;34m,\u001b[0m \u001b[0mcv2\u001b[0m\u001b[0;34m.\u001b[0m\u001b[0mIMREAD_GRAYSCALE\u001b[0m\u001b[0;34m)\u001b[0m\u001b[0;34m\u001b[0m\u001b[0;34m\u001b[0m\u001b[0m\n\u001b[0;32m---> 39\u001b[0;31m     \u001b[0mdst\u001b[0m \u001b[0;34m=\u001b[0m \u001b[0msrc\u001b[0m\u001b[0;34m.\u001b[0m\u001b[0mcopy\u001b[0m\u001b[0;34m(\u001b[0m\u001b[0;34m)\u001b[0m\u001b[0;34m\u001b[0m\u001b[0;34m\u001b[0m\u001b[0m\n\u001b[0m\u001b[1;32m     40\u001b[0m \u001b[0;34m\u001b[0m\u001b[0m\n\u001b[1;32m     41\u001b[0m     \u001b[0mdetect_diagonal_lines\u001b[0m\u001b[0;34m(\u001b[0m\u001b[0msrc\u001b[0m\u001b[0;34m,\u001b[0m \u001b[0mdst\u001b[0m\u001b[0;34m)\u001b[0m\u001b[0;34m\u001b[0m\u001b[0;34m\u001b[0m\u001b[0m\n",
            "\u001b[0;31mAttributeError\u001b[0m: 'NoneType' object has no attribute 'copy'"
          ]
        }
      ],
      "source": [
        "import cv2\n",
        "import numpy as np\n",
        "import math\n",
        "from threading import Thread\n",
        "\n",
        "def detect_diagonal_lines(src, dst):\n",
        "    height, width = src.shape[:2]\n",
        "\n",
        "    threads = []\n",
        "    rows_per_thread = height // 4  # Dividir la imagen en 4 secciones para 4 hilos\n",
        "\n",
        "    for i in range(4):\n",
        "        start_row = i * rows_per_thread\n",
        "        end_row = start_row + rows_per_thread if i < 3 else height\n",
        "\n",
        "        thread = Thread(target=process_rows, args=(src, dst, start_row, end_row))\n",
        "        thread.start()\n",
        "        threads.append(thread)\n",
        "\n",
        "    for thread in threads:\n",
        "        thread.join()\n",
        "\n",
        "def process_rows(src, dst, start_row, end_row):\n",
        "    for y in range(start_row, end_row):\n",
        "        for x in range(src.shape[1]):\n",
        "            gx = int(src[y, x + 1]) - int(src[y, x - 1]) if 0 < x < src.shape[1] - 1 else 0\n",
        "            gy = int(src[y + 1, x]) - int(src[y - 1, x]) if 0 < y < src.shape[0] - 1 else 0\n",
        "\n",
        "            magnitude = math.sqrt(gx ** 2 + gy ** 2)\n",
        "            angle = math.atan2(gy, gx)\n",
        "\n",
        "            if abs(angle - math.pi / 4) < math.pi / 8 or abs(angle + math.pi / 4) < math.pi / 8:\n",
        "                dst[y, x] = 0  # Píxel negro para líneas diagonales\n",
        "            else:\n",
        "                dst[y, x] = 255  # Píxel blanco para áreas no diagonales\n",
        "\n",
        "if __name__ == \"__main__\":\n",
        "    src = cv2.imread(\"dotplot_pycuda.png\", cv2.IMREAD_GRAYSCALE)\n",
        "    dst = src.copy()\n",
        "\n",
        "    detect_diagonal_lines(src, dst)\n",
        "\n",
        "    cv2.imwrite(\"resultado.jpg\", dst)"
      ]
    },
    {
      "cell_type": "code",
      "execution_count": null,
      "metadata": {
        "colab": {
          "base_uri": "https://localhost:8080/"
        },
        "id": "jfrlLY3ENT-w",
        "outputId": "b697da54-cde9-45c2-dfa6-11abd6e83d08"
      },
      "outputs": [
        {
          "output_type": "stream",
          "name": "stdout",
          "text": [
            "Dotplot saved as dotplot_pycuda.png\n",
            "{'carga_datos': 0.07873749732971191, 'ejecucion': 3.5503201484680176, 'visualizacion': 16.252521276474, 'total': 19.88157892227173, 'tiempo_muerto': 16.33125877380371}\n",
            "Aceleración: 2.380737519760608\n",
            "Eficiencia: 2.380737519760608\n",
            "Dotplot saved as dotplot_pycuda.png\n"
          ]
        }
      ],
      "source": [
        "import numpy as np  # Importa la librería numpy para manipulación de arrays\n",
        "import time  # Importa el módulo time para medir tiempos de ejecución\n",
        "import matplotlib.pyplot as plt  # Importa matplotlib para generar gráficos\n",
        "import json  # Importa json para manejar archivos JSON\n",
        "from Bio import SeqIO  # Importa SeqIO de Biopython para manipular archivos de secuencias\n",
        "import pycuda.autoinit  # Inicializa PyCUDA automáticamente\n",
        "import pycuda.driver as cuda  # Importa el controlador CUDA de PyCUDA\n",
        "from pycuda.compiler import SourceModule  # Importa SourceModule para compilar y cargar módulos CUDA\n",
        "\n",
        "\n",
        "# Función para cargar secuencias de archivos FASTA\n",
        "def load_sequence(filepath):\n",
        "    \"\"\"Carga una secuencia de un archivo FASTA.\"\"\"\n",
        "    with open(filepath, \"r\") as file:  # Abre el archivo FASTA en modo lectura\n",
        "        for record in SeqIO.parse(file, \"fasta\"):  # Parsea el archivo FASTA y itera sobre cada registro\n",
        "            return str(record.seq)  # Retorna la secuencia como cadena\n",
        "    return \"\"  # Retorna una cadena vacía si no se encuentra ninguna secuencia\n",
        "\n",
        "# Función para ejecutar el algoritmo en PyCUDA\n",
        "def execute_py_cuda_algorithm(seq1, seq2):\n",
        "    \"\"\"Ejecuta el algoritmo de dotplot en PyCUDA.\"\"\"\n",
        "    n = len(seq1)  # Longitud de la primera secuencia\n",
        "    m = len(seq2)  # Longitud de la segunda secuencia\n",
        "\n",
        "    dotplot = np.zeros((n, m), dtype=np.uint8)  # Inicializa la matriz dotplot con ceros\n",
        "\n",
        "    # Convertir las secuencias a arrays de bytes\n",
        "    seq1_bytes = np.array(list(seq1.encode('ascii')), dtype=np.uint8)\n",
        "    seq2_bytes = np.array(list(seq2.encode('ascii')), dtype=np.uint8)\n",
        "\n",
        "    # Reservar memoria en la GPU\n",
        "    seq1_gpu = cuda.mem_alloc(seq1_bytes.nbytes)\n",
        "    seq2_gpu = cuda.mem_alloc(seq2_bytes.nbytes)\n",
        "    dotplot_gpu = cuda.mem_alloc(dotplot.nbytes)\n",
        "\n",
        "    # Copiar datos a la GPU\n",
        "    cuda.memcpy_htod(seq1_gpu, seq1_bytes)\n",
        "    cuda.memcpy_htod(seq2_gpu, seq2_bytes)\n",
        "    cuda.memcpy_htod(dotplot_gpu, dotplot)\n",
        "\n",
        "    # Código CUDA para generar el dotplot\n",
        "    kernel_code = \"\"\"\n",
        "    __global__ void generate_dotplot(unsigned char *seq1, unsigned char *seq2, unsigned char *dotplot, int n, int m) {\n",
        "        int idx = threadIdx.x + blockDim.x * blockIdx.x;\n",
        "        int idy = threadIdx.y + blockDim.y * blockIdx.y;\n",
        "        if (idx < n && idy < m) {\n",
        "            dotplot[idx * m + idy] = (seq1[idx] == seq2[idy]);\n",
        "        }\n",
        "    }\n",
        "    \"\"\"\n",
        "\n",
        "    mod = SourceModule(kernel_code)  # Compila el código CUDA\n",
        "    generate_dotplot = mod.get_function(\"generate_dotplot\")  # Obtiene la función CUDA\n",
        "\n",
        "    # Ejecutar la función CUDA\n",
        "    block_size = (16, 16, 1)  # Define el tamaño del bloque\n",
        "    grid_size = (int(np.ceil(n / 16)), int(np.ceil(m / 16)), 1)  # Define el tamaño de la cuadrícula\n",
        "    generate_dotplot(seq1_gpu, seq2_gpu, dotplot_gpu, np.int32(n), np.int32(m), block=block_size, grid=grid_size)\n",
        "\n",
        "    # Copiar resultados de vuelta a la CPU\n",
        "    cuda.memcpy_dtoh(dotplot, dotplot_gpu)\n",
        "\n",
        "    return dotplot\n",
        "\n",
        "# Función para visualizar y guardar el dotplot\n",
        "def visualize_dotplot(dotplot, estrategia):\n",
        "    \"\"\"Visualiza y guarda el dotplot generado.\"\"\"\n",
        "    output_file = f\"dotplot_{estrategia}.png\"  # Nombre del archivo de salida\n",
        "    plt.imshow(dotplot, cmap='gray_r', interpolation='none')  # Muestra el dotplot\n",
        "    plt.title(f\"Dotplot {estrategia}\")  # Título del gráfico\n",
        "    plt.xlabel('Sequence 2')  # Etiqueta del eje X\n",
        "    plt.ylabel('Sequence 1')  # Etiqueta del eje Y\n",
        "    plt.savefig(output_file)  # Guarda el gráfico como archivo PNG\n",
        "    plt.close()  # Cierra la figura\n",
        "    print(f\"Dotplot saved as {output_file}\")  # Imprime un mensaje indicando que el archivo se ha guardado\n",
        "    return output_file  # Retorna el nombre del archivo de salida\n",
        "\n",
        "# Celda 3: Función para medir tiempos\n",
        "def measure_times():\n",
        "    tiempos = {}\n",
        "\n",
        "    # Carga de datos\n",
        "    start_time = time.time()\n",
        "    # Cargar las secuencias\n",
        "    Secuencia1 = load_sequence(file1)\n",
        "    Secuencia2 = load_sequence(file2)\n",
        "    tiempos['carga_datos'] = time.time() - start_time\n",
        "\n",
        "    # Usar solo las primeras bases según el filtro\n",
        "    Secuencia1 = Secuencia1[:filter_size]\n",
        "    Secuencia2 = Secuencia2[:filter_size]\n",
        "\n",
        "    # Ejecución del algoritmo en PyCUDA\n",
        "    start_time = time.time()\n",
        "    dotplot = execute_py_cuda_algorithm(Secuencia1, Secuencia2)\n",
        "    tiempos['ejecucion'] = time.time() - start_time\n",
        "\n",
        "    # Generación de la imagen\n",
        "    start_time = time.time()\n",
        "    visualize_dotplot(dotplot, 'pycuda')\n",
        "    tiempos['visualizacion'] = time.time() - start_time\n",
        "\n",
        "    # Calcular tiempos totales y tiempos muertos\n",
        "    tiempos['total'] = tiempos['carga_datos'] + tiempos['ejecucion'] + tiempos['visualizacion']\n",
        "    tiempos['tiempo_muerto'] = tiempos['total'] - tiempos['ejecucion']\n",
        "\n",
        "    return tiempos\n",
        "\n",
        "# Ejecución y medición\n",
        "file1 = \"E_coli.fna\"\n",
        "file2 = \"Salmonella.fna\"\n",
        "filter_size = 40000\n",
        "\n",
        "tiempos = measure_times()\n",
        "print(tiempos)\n",
        "\n",
        "# Celda 4: Cálculo de Aceleración y Eficiencia\n",
        "# Tiempos secuenciales proporcionados\n",
        "tiempos_secuenciales = {\n",
        "    \"carga_datos\": 0.1113274097442627,\n",
        "    \"ejecucion\": 45.34779953956604,\n",
        "    \"visualizacion\": 1.8736939430236816,\n",
        "    \"total\": 47.332820892333984\n",
        "}\n",
        "\n",
        "def calculate_speedup_and_efficiency(secuencial_times, paralel_times):\n",
        "    speedup = secuencial_times['total'] / paralel_times['total']\n",
        "    efficiency = speedup / num_cores  # num_cores debe estar definido con el número de núcleos usados\n",
        "    return speedup, efficiency\n",
        "\n",
        "# Calcular aceleración y eficiencia\n",
        "num_cores = 1  # Cambiar según la configuración de PyCUDA utilizada\n",
        "speedup, efficiency = calculate_speedup_and_efficiency(tiempos_secuenciales, tiempos)\n",
        "print(f\"Aceleración: {speedup}\")\n",
        "print(f\"Eficiencia: {efficiency}\")\n",
        "\n",
        "# Celda 5: Escalabilidad\n",
        "def measure_scalability(core_configs):\n",
        "    scalability_results = []\n",
        "    for cores in core_configs:\n",
        "        num_cores = cores\n",
        "        tiempos = measure_times()\n",
        "        speedup, efficiency = calculate_speedup_and_efficiency(tiempos_secuenciales, tiempos)\n",
        "        scalability_results.append({\n",
        "            \"cores\": cores,\n",
        "            \"tiempos\": tiempos,\n",
        "            \"speedup\": speedup,\n",
        "            \"efficiency\": efficiency\n",
        "        })\n",
        "    return scalability_results\n",
        "\n",
        "core_configs = [1, 2, 4 ]  # Ejemplos de configuraciones de núcleos\n",
        "scalability_results = measure_scalability(core_configs)\n",
        "\n",
        "# Guardar resultados\n",
        "with open('scalability_results.json', 'w') as f:\n",
        "    json.dump(scalability_results, f, indent=4)\n",
        "\n",
        "# Visualizar resultados\n",
        "for result in scalability_results:\n",
        "    print(f\"Cores: {result['cores']}, Speedup: {result['speedup']}, Efficiency: {result['efficiency']}\")"
      ]
    },
    {
      "cell_type": "code",
      "execution_count": null,
      "metadata": {
        "colab": {
          "base_uri": "https://localhost:8080/",
          "height": 198
        },
        "id": "-aYlpprwRfvK",
        "outputId": "19a90fd0-3a4c-4047-8d39-fb2d1de02f81"
      },
      "outputs": [
        {
          "ename": "NameError",
          "evalue": "name 'dotplot' is not defined",
          "output_type": "error",
          "traceback": [
            "\u001b[0;31m---------------------------------------------------------------------------\u001b[0m",
            "\u001b[0;31mNameError\u001b[0m                                 Traceback (most recent call last)",
            "\u001b[0;32m<ipython-input-37-2e07db26d14d>\u001b[0m in \u001b[0;36m<cell line: 26>\u001b[0;34m()\u001b[0m\n\u001b[1;32m     24\u001b[0m \u001b[0;34m\u001b[0m\u001b[0m\n\u001b[1;32m     25\u001b[0m \u001b[0;31m# Generar y visualizar el dotplot con la diagonal resaltada\u001b[0m\u001b[0;34m\u001b[0m\u001b[0;34m\u001b[0m\u001b[0m\n\u001b[0;32m---> 26\u001b[0;31m \u001b[0mdiagonal\u001b[0m \u001b[0;34m=\u001b[0m \u001b[0mfilter_diagonal\u001b[0m\u001b[0;34m(\u001b[0m\u001b[0mdotplot\u001b[0m\u001b[0;34m)\u001b[0m\u001b[0;34m\u001b[0m\u001b[0;34m\u001b[0m\u001b[0m\n\u001b[0m\u001b[1;32m     27\u001b[0m \u001b[0mvisualize_dotplot_with_diagonal\u001b[0m\u001b[0;34m(\u001b[0m\u001b[0mdotplot\u001b[0m\u001b[0;34m,\u001b[0m \u001b[0mdiagonal\u001b[0m\u001b[0;34m)\u001b[0m\u001b[0;34m\u001b[0m\u001b[0;34m\u001b[0m\u001b[0m\n",
            "\u001b[0;31mNameError\u001b[0m: name 'dotplot' is not defined"
          ]
        }
      ],
      "source": [
        "import numpy as np\n",
        "import matplotlib.pyplot as plt\n",
        "\n",
        "def filter_diagonal(dotplot):\n",
        "    \"\"\"Filtra y resalta la diagonal del dotplot.\"\"\"\n",
        "    n, m = dotplot.shape\n",
        "    diagonal = np.zeros_like(dotplot)\n",
        "\n",
        "    for i in range(min(n, m)):\n",
        "        if dotplot[i, i] == 1:\n",
        "            diagonal[i, i] = 1\n",
        "\n",
        "    return diagonal\n",
        "\n",
        "def visualize_dotplot_with_diagonal(dotplot, diagonal):\n",
        "    \"\"\"Visualiza el dotplot con la diagonal resaltada.\"\"\"\n",
        "    plt.figure(figsize=(10, 10))\n",
        "    plt.imshow(dotplot, cmap='gray_r', interpolation='none')\n",
        "    plt.imshow(diagonal, cmap='Reds', interpolation='none', alpha=0.5)\n",
        "    plt.title(\"Dotplot con Diagonal Resaltada\")\n",
        "    plt.xlabel('Sequence 2')\n",
        "    plt.ylabel('Sequence 1')\n",
        "    plt.show()\n",
        "\n",
        "# Generar y visualizar el dotplot con la diagonal resaltada\n",
        "diagonal = filter_diagonal(dotplot)\n",
        "visualize_dotplot_with_diagonal(dotplot, diagonal)\n"
      ]
    }
  ],
  "metadata": {
    "accelerator": "GPU",
    "colab": {
      "gpuType": "T4",
      "provenance": []
    },
    "kernelspec": {
      "display_name": "Python 3",
      "name": "python3"
    },
    "language_info": {
      "name": "python"
    }
  },
  "nbformat": 4,
  "nbformat_minor": 0
}